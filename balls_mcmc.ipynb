{
 "cells": [
  {
   "cell_type": "code",
   "execution_count": 1,
   "metadata": {
    "colab": {
     "base_uri": "https://localhost:8080/",
     "height": 496
    },
    "colab_type": "code",
    "id": "cY8r_FEUGzjS",
    "outputId": "7dddd213-c3e4-4447-a61c-8f47e8424088"
   },
   "outputs": [
    {
     "name": "stdout",
     "output_type": "stream",
     "text": [
      "Defaulting to user installation because normal site-packages is not writeable\n",
      "Requirement already satisfied: pyprob in /home/aziz/.local/lib/python3.8/site-packages (1.2.4)\n",
      "Collecting pymunk\n",
      "  Using cached pymunk-5.6.0-py2.py3-none-manylinux1_x86_64.whl (535 kB)\n",
      "Requirement already satisfied: pygame in /usr/lib/python3.8/site-packages (1.9.6)\n",
      "Requirement already satisfied: torch>=1.5.1 in /home/aziz/.local/lib/python3.8/site-packages (from pyprob) (1.6.0)\n",
      "Requirement already satisfied: flatbuffers==1.12 in /home/aziz/.local/lib/python3.8/site-packages (from pyprob) (1.12)\n",
      "Requirement already satisfied: pyyaml>=3.13 in /usr/lib/python3.8/site-packages (from pyprob) (5.3.1)\n",
      "Requirement already satisfied: termcolor==1.1.0 in /home/aziz/.local/lib/python3.8/site-packages (from pyprob) (1.1.0)\n",
      "Requirement already satisfied: numpy in /home/aziz/.local/lib/python3.8/site-packages (from pyprob) (1.18.1)\n",
      "Requirement already satisfied: pyzmq>=19.0.0 in /usr/lib/python3.8/site-packages (from pyprob) (19.0.1)\n",
      "Requirement already satisfied: pydotplus==2.0.2 in /home/aziz/.local/lib/python3.8/site-packages (from pyprob) (2.0.2)\n",
      "Requirement already satisfied: matplotlib in /home/aziz/.local/lib/python3.8/site-packages (from pyprob) (3.2.1)\n",
      "Requirement already satisfied: scikit-learn in /home/aziz/.local/lib/python3.8/site-packages (from pyprob) (0.22.2.post1)\n",
      "Requirement already satisfied: cffi!=1.13.1 in /usr/lib/python3.8/site-packages (from pymunk) (1.14.1)\n",
      "Requirement already satisfied: future in /home/aziz/.local/lib/python3.8/site-packages (from torch>=1.5.1->pyprob) (0.18.2)\n",
      "Requirement already satisfied: pyparsing>=2.0.1 in /usr/lib/python3.8/site-packages (from pydotplus==2.0.2->pyprob) (2.4.7)\n",
      "Requirement already satisfied: python-dateutil>=2.1 in /usr/lib/python3.8/site-packages (from matplotlib->pyprob) (2.8.1)\n",
      "Requirement already satisfied: kiwisolver>=1.0.1 in /home/aziz/.local/lib/python3.8/site-packages (from matplotlib->pyprob) (1.2.0)\n",
      "Requirement already satisfied: cycler>=0.10 in /home/aziz/.local/lib/python3.8/site-packages (from matplotlib->pyprob) (0.10.0)\n",
      "Requirement already satisfied: joblib>=0.11 in /home/aziz/.local/lib/python3.8/site-packages (from scikit-learn->pyprob) (0.14.1)\n",
      "Requirement already satisfied: scipy>=0.17.0 in /home/aziz/.local/lib/python3.8/site-packages (from scikit-learn->pyprob) (1.3.3)\n",
      "Requirement already satisfied: pycparser in /usr/lib/python3.8/site-packages (from cffi!=1.13.1->pymunk) (2.20)\n",
      "Requirement already satisfied: six>=1.5 in /usr/lib/python3.8/site-packages (from python-dateutil>=2.1->matplotlib->pyprob) (1.15.0)\n",
      "Installing collected packages: pymunk\n",
      "Successfully installed pymunk-5.6.0\n"
     ]
    }
   ],
   "source": [
    "!pip install pyprob pymunk pygame "
   ]
  },
  {
   "cell_type": "code",
   "execution_count": 2,
   "metadata": {
    "colab": {
     "base_uri": "https://localhost:8080/",
     "height": 17
    },
    "colab_type": "code",
    "id": "2VG7b3mSGqKs",
    "outputId": "2ea40315-5445-426a-aaae-ea78adf9d12e"
   },
   "outputs": [
    {
     "name": "stdout",
     "output_type": "stream",
     "text": [
      "pygame 1.9.6\n",
      "Hello from the pygame community. https://www.pygame.org/contribute.html\n",
      "Loading chipmunk for Linux (64bit) [/home/aziz/.local/lib/python3.8/site-packages/pymunk/libchipmunk.so]\n"
     ]
    },
    {
     "data": {
      "text/html": [
       "<style>.container { width:100% !important; }</style>"
      ],
      "text/plain": [
       "<IPython.core.display.HTML object>"
      ]
     },
     "metadata": {},
     "output_type": "display_data"
    }
   ],
   "source": [
    "import random\n",
    "import pygame\n",
    "import pygame.locals\n",
    "import pymunk\n",
    "import pymunk.pygame_util\n",
    "import matplotlib.pyplot as plt\n",
    "%matplotlib inline\n",
    "\n",
    "import pyprob\n",
    "from pyprob import Model\n",
    "from pyprob.distributions import Uniform, Normal\n",
    "pyprob.seed(1)\n",
    "from IPython.core.display import display, HTML\n",
    "display(HTML(\"<style>.container { width:100% !important; }</style>\"))\n"
   ]
  },
  {
   "cell_type": "code",
   "execution_count": 3,
   "metadata": {
    "colab": {},
    "colab_type": "code",
    "id": "HKPe62e7Gt7I"
   },
   "outputs": [],
   "source": [
    "def plot_dist(dist):\n",
    "    dist = dist.resample(1000)\n",
    "    dist_ball_radius = dist.map(lambda trace: trace.named_variables['ball_radius'].value)\n",
    "    dist_ball_elasticity = dist.map(lambda trace: trace.named_variables['ball_elasticity'].value)\n",
    "    dist_num_bumpers = dist.map(lambda trace: trace.named_variables['num_bumpers'].value)\n",
    "    dist_balls_in_box = dist.map(lambda trace: trace.named_variables['balls_in_box'].value)\n",
    "    def collect_xy(trace):\n",
    "        num_bumpers = int(trace.named_variables['num_bumpers'].value)\n",
    "        return [[int(trace.named_variables['bumper{}x'.format(i)].value), int(trace.named_variables['bumper{}y'.format(i)].value)] for i in range(num_bumpers)]\n",
    "    dist_xy = dist.map(collect_xy)\n",
    "    xys = []\n",
    "    for xy in dist_xy.values:\n",
    "#         print(xy)\n",
    "        xys.extend(xy)\n",
    "#     print(xys)\n",
    "#     fig, ax = plt.subplots(3, 2, figsize=(10, 10))\n",
    "    fig = plt.figure(figsize=(10,10))\n",
    "    gs = fig.add_gridspec(3,2)\n",
    "    \n",
    "    ax = fig.add_subplot(gs[0,0])\n",
    "    ax.scatter(*zip(*xys))\n",
    "    ax.set_xlabel('x')\n",
    "    ax.set_ylabel('y')\n",
    "    ax.set_title('bumpers')\n",
    "    ax.set_xlim([-500, 1500])\n",
    "    ax.set_ylim([-200, 600])\n",
    "    \n",
    "    ax = fig.add_subplot(gs[0,1])\n",
    "    ax.hist(dist_num_bumpers.values_numpy())\n",
    "    ax.set_title('num_bumpers')\n",
    "    \n",
    "    ax = fig.add_subplot(gs[1,0])\n",
    "    ax.hist(dist_ball_radius.values_numpy())\n",
    "    ax.set_title('ball_radius')\n",
    "    \n",
    "    ax = fig.add_subplot(gs[1,1])\n",
    "    ax.hist(dist_ball_elasticity.values_numpy())\n",
    "    ax.set_title('ball_elasticity')\n",
    "    \n",
    "#     ax = fig.add_subplot(gs[2,0])\n",
    "#     ax[2, 0].remove()\n",
    "\n",
    "    ax = fig.add_subplot(gs[2,0:])\n",
    "    ax.hist(dist_balls_in_box.values_numpy())\n",
    "    ax.set_title('balls_in_box')\n",
    "    plt.tight_layout()\n",
    "    \n",
    "def run_trace(trace):\n",
    "    num_bumpers = int(trace.named_variables['num_bumpers'].value)\n",
    "    bumpers = [[int(trace.named_variables['bumper{}x'.format(i)].value), int(trace.named_variables['bumper{}y'.format(i)].value)] for i in range(num_bumpers)]\n",
    "    ball_radius = max(5, int(trace.named_variables['ball_radius'].value))\n",
    "    ball_elasticity = float(trace.named_variables['ball_elasticity'].value)\n",
    "    p = PhysicsSim(bumpers=bumpers, ball_radius=ball_radius, ball_elasticity=ball_elasticity, physics_steps_per_frame=5, draw=True, print_acc=True)\n",
    "    p.run()"
   ]
  },
  {
   "cell_type": "markdown",
   "metadata": {
    "colab_type": "text",
    "id": "hOokyfaAIrAD"
   },
   "source": [
    "# A Simple Physics Simulator"
   ]
  },
  {
   "cell_type": "code",
   "execution_count": 4,
   "metadata": {
    "colab": {},
    "colab_type": "code",
    "id": "9sNVLaByGyh-"
   },
   "outputs": [],
   "source": [
    "class PhysicsSim():\n",
    "    def __init__(self, bumpers=[[10, 10]], bumper_size=100, balls_to_create=10, ball_radius=10, ball_elasticity=0.9, physics_steps_per_frame=5, draw=True, print_acc=False):\n",
    "        self._space = pymunk.Space()\n",
    "        self._space.gravity = (0.0, -900.0)\n",
    "        self._dt = 0.01\n",
    "        self._physics_steps_per_frame = physics_steps_per_frame\n",
    "        pygame.init()\n",
    "        self._screen = pygame.display.set_mode((1000, 600))\n",
    "        self._clock = pygame.time.Clock()\n",
    "        self._draw_options = pymunk.pygame_util.DrawOptions(self._screen)\n",
    "        self._bumpers = bumpers\n",
    "        self._bumper_size = bumper_size\n",
    "        self._box_x = [850, 950]\n",
    "        self._box_y = [50, 150]\n",
    "        self._balls_to_create = balls_to_create\n",
    "        self._ball_elasticity = ball_elasticity\n",
    "        self._ball_radius = ball_radius\n",
    "        self._balls = []\n",
    "        self._balls_in_box = []\n",
    "        self._ticks_to_next_ball = 1\n",
    "        self._add_static_bodies()\n",
    "        self._timeout = 500\n",
    "        self._running = True\n",
    "        self._draw = draw\n",
    "        self._print_acc = print_acc\n",
    "\n",
    "    def run(self):\n",
    "        i = 0\n",
    "        while self._running:\n",
    "            i += 1\n",
    "            if i > self._timeout:\n",
    "                self._running = False\n",
    "            for x in range(self._physics_steps_per_frame):\n",
    "                self._space.step(self._dt)\n",
    "                self._update()\n",
    "            self._process_events()\n",
    "            if self._draw:\n",
    "                self._clear_screen()\n",
    "                self._draw_objects()\n",
    "                pygame.display.flip()\n",
    "                pygame.display.set_caption('fps: {:.2f}, balls in box: {}'.format(self._clock.get_fps(), len(self._balls_in_box)))\n",
    "                self._clock.tick(100) # delay between frames\n",
    "        self._process_events()\n",
    "        for j in range(100):\n",
    "            i += 1\n",
    "            if i > self._timeout:\n",
    "                self._running = False\n",
    "            for x in range(self._physics_steps_per_frame):\n",
    "                self._space.step(self._dt)\n",
    "                self._update()\n",
    "            self._process_events()\n",
    "            if self._draw:\n",
    "                self._clear_screen()\n",
    "                self._draw_objects()\n",
    "                pygame.display.flip()\n",
    "                pygame.display.set_caption('fps: {:.2f}, balls in box: {}'.format(self._clock.get_fps(), len(self._balls_in_box)))\n",
    "                self._clock.tick(100) # delay between frames\n",
    "\n",
    "\n",
    "    def _add_static_bodies(self):\n",
    "        static_body = self._space.static_body\n",
    "        static_lines = []\n",
    "        static_lines.append(pymunk.Segment(static_body, (40, 520), (140, 420), 2))\n",
    "        for bumper in self._bumpers:\n",
    "            static_lines.append(pymunk.Segment(static_body, (bumper[0], bumper[1]), (bumper[0] + self._bumper_size, bumper[1]), 2))\n",
    "#         static_lines.append(pymunk.Segment(static_body, (200, 200), (500, 200), 0))\n",
    "        static_lines.append(pymunk.Segment(static_body, (self._box_x[0], self._box_y[0]), (self._box_x[1], self._box_y[0]), 2))\n",
    "        static_lines.append(pymunk.Segment(static_body, (self._box_x[0], self._box_y[0]), (self._box_x[0], self._box_y[1]), 2))\n",
    "        static_lines.append(pymunk.Segment(static_body, (self._box_x[1], self._box_y[0]), (self._box_x[1], self._box_y[1]), 2))\n",
    "\n",
    "        #         static_lines.append(pymunk.Segment(static_body, (111, 280), (407,246), 0))\n",
    "        for line in static_lines:\n",
    "            line.elasticity = 0.95\n",
    "            line.friction = 0.9\n",
    "        self._space.add(static_lines)\n",
    "        \n",
    "    def _process_events(self):\n",
    "        for event in pygame.event.get():\n",
    "            if event.type == pygame.locals.QUIT:\n",
    "                self._running = False\n",
    "            elif event.type == pygame.locals.KEYDOWN and event.key == pygame.locals.K_ESCAPE:\n",
    "                self._running = False\n",
    "#             elif event.type == pygame.locals.KEYDOWN and event.key == pygame.locals.K_p:\n",
    "#                 pygame.image.save(self._screen, 'game.png')\n",
    "\n",
    "    def _update(self):\n",
    "        if self._balls_to_create > 0:\n",
    "            self._ticks_to_next_ball -= 1\n",
    "            if self._ticks_to_next_ball <= 0:\n",
    "                self._create_ball()\n",
    "                self._ticks_to_next_ball = 60\n",
    "                self._balls_to_create -= 1\n",
    "        self._balls_in_box = [ball for ball in self._balls \n",
    "                              if ball.body.position.x > self._box_x[0] \n",
    "                              and ball.body.position.x < self._box_x[1] \n",
    "                              and ball.body.position.y > self._box_y[0] \n",
    "                              and ball.body.position.y < self._box_y[1]\n",
    "                             ]\n",
    "        if self._print_acc:           \n",
    "            print(f\"Number of balls in the box: {len(self._balls_in_box)}, Average number of balls in the box: {(len(self._balls_in_box)/10)*100}%\", end=\"\\r\")\n",
    "        balls_to_remove = [ball for ball in self._balls if ball.body.position.y < 50]\n",
    "        for ball in balls_to_remove:\n",
    "            self._space.remove(ball, ball.body)\n",
    "            self._balls.remove(ball)\n",
    "        if len(self._balls) == 0:\n",
    "            self._running = False\n",
    "        elif len(self._balls) == len(self._balls_in_box):\n",
    "            self._running = False\n",
    "            \n",
    "    def _create_ball(self):\n",
    "        mass = 10\n",
    "        inertia = pymunk.moment_for_circle(mass, 0, self._ball_radius, (0, 0))\n",
    "        body = pymunk.Body(mass, inertia)\n",
    "        body.position = 50 + random.random()*0.1, 550\n",
    "#         body.velocity = 0, 0\n",
    "        shape = pymunk.Circle(body, self._ball_radius, (0, 0))\n",
    "        shape.elasticity = self._ball_elasticity\n",
    "        shape.friction = 0.9\n",
    "        self._space.add(body, shape)\n",
    "        self._balls.append(shape)\n",
    "\n",
    "    def _clear_screen(self):\n",
    "        self._screen.fill(pygame.color.THECOLORS['white'])\n",
    "        \n",
    "    def _draw_objects(self):\n",
    "        self._space.debug_draw(self._draw_options)"
   ]
  },
  {
   "cell_type": "code",
   "execution_count": 5,
   "metadata": {
    "colab": {
     "base_uri": "https://localhost:8080/",
     "height": 351
    },
    "colab_type": "code",
    "id": "htSlAiXlJESU",
    "outputId": "2dda9ee9-a9fc-4c56-b29f-d374af5ab2d9"
   },
   "outputs": [
    {
     "name": "stdout",
     "output_type": "stream",
     "text": [
      "Number of balls in the box: 10, Average number of balls in the box: 100.0%\r"
     ]
    }
   ],
   "source": [
    "p = PhysicsSim(bumpers=[[250,100], [590,150]], ball_elasticity=0.85, physics_steps_per_frame=3, draw=True, print_acc=True)\n",
    "p.run()\n",
    "# p._balls_in_box\n"
   ]
  },
  {
   "cell_type": "code",
   "execution_count": 6,
   "metadata": {
    "colab": {},
    "colab_type": "code",
    "id": "LpixZySrJGfB"
   },
   "outputs": [],
   "source": [
    "class PhysicsModel(Model):\n",
    "    def __init__(self, draw=True, physics_steps_per_frame=5):\n",
    "        super().__init__('Physics')\n",
    "        self._draw = draw\n",
    "        self._physics_steps_per_frame = physics_steps_per_frame\n",
    "        \n",
    "    def forward(self):\n",
    "        ball_radius = max(5,int(pyprob.sample(Normal(12, 6), name='ball_radius')))\n",
    "        ball_elasticity = float(pyprob.sample(Normal(0.9, 0.1), name='ball_elasticity'))\n",
    "        num_bumpers = int(pyprob.sample(Uniform(1, 50), name='num_bumpers'))\n",
    "        bumpers = []\n",
    "        for i in range(num_bumpers):\n",
    "            x = int(pyprob.sample(Normal(450, 250), name='bumper{}x'.format(i)))\n",
    "            y = int(pyprob.sample(Normal(200, 100), name='bumper{}y'.format(i)))\n",
    "            bumpers.append([x, y])\n",
    "        p = PhysicsSim(bumpers=bumpers, ball_radius=ball_radius, ball_elasticity=ball_elasticity, draw=self._draw, physics_steps_per_frame=self._physics_steps_per_frame)\n",
    "        p.run()\n",
    "        balls_in_box = len(p._balls_in_box)\n",
    "        \n",
    "        pyprob.observe(Normal(balls_in_box, 1), balls_in_box, name='balls_in_box')"
   ]
  },
  {
   "cell_type": "code",
   "execution_count": 19,
   "metadata": {
    "colab": {},
    "colab_type": "code",
    "id": "8l18Wuy-JJiS"
   },
   "outputs": [
    {
     "name": "stdout",
     "output_type": "stream",
     "text": [
      "Number of balls in the box: 0, Average number of balls in the box: 0.0%\r"
     ]
    }
   ],
   "source": [
    "model = PhysicsModel(draw=True, physics_steps_per_frame=2)\n",
    "trace = model.get_trace()"
   ]
  },
  {
   "cell_type": "markdown",
   "metadata": {
    "colab_type": "text",
    "id": "l0d5LcXvJRia"
   },
   "source": [
    "# Prior distribution¶\n"
   ]
  },
  {
   "cell_type": "code",
   "execution_count": 7,
   "metadata": {
    "colab": {},
    "colab_type": "code",
    "id": "ngsNDOZRJP3f"
   },
   "outputs": [
    {
     "name": "stdout",
     "output_type": "stream",
     "text": [
      "Time spent  | Time remain.| Progress             | Trace   | Traces/sec\n",
      "0d:00:00:13 | 0d:00:00:00 | #################### | 500/500 | 36.55       \n"
     ]
    }
   ],
   "source": [
    "model = PhysicsModel(draw=False)\n",
    "prior = model.prior(num_traces=500)"
   ]
  },
  {
   "cell_type": "code",
   "execution_count": 57,
   "metadata": {
    "colab": {},
    "colab_type": "code",
    "id": "gQd34cO9Jnmm"
   },
   "outputs": [
    {
     "name": "stdout",
     "output_type": "stream",
     "text": [
      "Resample, num_samples: 1000, min_index: 0, max_index: 500, ess_before_resample: 499.9999999999998\n",
      "Time spent  | Time remain.| Progress             | Samples   | Samples/sec\n",
      "0d:00:00:00 | 0d:00:00:00 | #################### | 1000/1000 | 133,146.17       \n",
      "Map, min_index: 0, max_index: 1000\n",
      "Time spent  | Time remain.| Progress             | Values    | Values/sec\n",
      "0d:00:00:00 | 0d:00:00:00 | #################### | 1000/1000 | 75,591.41       \n",
      "Map, min_index: 0, max_index: 1000\n",
      "Time spent  | Time remain.| Progress             | Values    | Values/sec\n",
      "0d:00:00:00 | 0d:00:00:00 | #################### | 1000/1000 | 144,337.81       \n",
      "Map, min_index: 0, max_index: 1000\n",
      "Time spent  | Time remain.| Progress             | Values    | Values/sec\n",
      "0d:00:00:00 | 0d:00:00:00 | #################### | 1000/1000 | 162,392.60       \n",
      "Map, min_index: 0, max_index: 1000\n",
      "Time spent  | Time remain.| Progress             | Values    | Values/sec\n",
      "0d:00:00:00 | 0d:00:00:00 | #################### | 1000/1000 | 263,030.84       \n",
      "Map, min_index: 0, max_index: 1000\n",
      "Time spent  | Time remain.| Progress             | Values    | Values/sec\n",
      "0d:00:00:00 | 0d:00:00:00 | #################### | 1000/1000 | 62,768.14       \n"
     ]
    },
    {
     "data": {
      "image/png": "[encoded data removed]",
      "text/plain": [
       "<Figure size 720x720 with 5 Axes>"
      ]
     },
     "metadata": {
      "needs_background": "light"
     },
     "output_type": "display_data"
    }
   ],
   "source": [
    "plot_dist(prior)\n"
   ]
  },
  {
   "cell_type": "markdown",
   "metadata": {
    "colab_type": "text",
    "id": "hAhAKv0ZJrG0"
   },
   "source": [
    "# Some samples from the prior"
   ]
  },
  {
   "cell_type": "code",
   "execution_count": 58,
   "metadata": {
    "colab": {},
    "colab_type": "code",
    "id": "De6EV4BxJrpo"
   },
   "outputs": [],
   "source": [
    "run_trace(prior.sample())\n"
   ]
  },
  {
   "cell_type": "markdown",
   "metadata": {
    "colab_type": "text",
    "id": "XE0TmTQKJ0Rq"
   },
   "source": [
    "# Posterior distribution"
   ]
  },
  {
   "cell_type": "code",
   "execution_count": 8,
   "metadata": {
    "colab": {},
    "colab_type": "code",
    "id": "mwpsAjKMJ1e0"
   },
   "outputs": [
    {
     "name": "stdout",
     "output_type": "stream",
     "text": [
      "Time spent  | Time remain.| Progress             | Trace     | Accepted|Smp reuse| Traces/sec\n",
      "0d:00:01:15 | 0d:00:00:00 | #################### | 2000/2000 |  57.30% |  95.04% | 26.43       \n"
     ]
    }
   ],
   "source": [
    "pyprob.seed(1)\n",
    "model = PhysicsModel(draw=False)\n",
    "posterior_rmh = model.posterior(num_traces=2000, observe={'balls_in_box': 10}, inference_engine=pyprob.InferenceEngine.RANDOM_WALK_METROPOLIS_HASTINGS)"
   ]
  },
  {
   "cell_type": "code",
   "execution_count": 9,
   "metadata": {
    "colab": {},
    "colab_type": "code",
    "id": "4LQF754kJ6kp"
   },
   "outputs": [
    {
     "name": "stdout",
     "output_type": "stream",
     "text": [
      "Resample, num_samples: 1000, min_index: 0, max_index: 2000, ess_before_resample: 2000.0000000000039\n",
      "Time spent  | Time remain.| Progress             | Samples   | Samples/sec\n",
      "0d:00:00:00 | 0d:00:00:00 | #################### | 1000/1000 | 156,982.55       \n",
      "Map, min_index: 0, max_index: 1000\n",
      "Time spent  | Time remain.| Progress             | Values    | Values/sec\n",
      "0d:00:00:00 | 0d:00:00:00 | #################### | 1000/1000 | 204,535.41       \n",
      "Map, min_index: 0, max_index: 1000\n",
      "Time spent  | Time remain.| Progress             | Values    | Values/sec\n",
      "0d:00:00:00 | 0d:00:00:00 | #################### | 1000/1000 | 219,116.87       \n",
      "Map, min_index: 0, max_index: 1000\n",
      "Time spent  | Time remain.| Progress             | Values    | Values/sec\n",
      "0d:00:00:00 | 0d:00:00:00 | #################### | 1000/1000 | 301,833.09       \n",
      "Map, min_index: 0, max_index: 1000\n",
      "Time spent  | Time remain.| Progress             | Values    | Values/sec\n",
      "0d:00:00:00 | 0d:00:00:00 | #################### | 1000/1000 | 239,982.76       \n",
      "Map, min_index: 0, max_index: 1000\n",
      "Time spent  | Time remain.| Progress             | Values    | Values/sec\n",
      "0d:00:00:00 | 0d:00:00:00 | #################### | 1000/1000 | 19,577.25       \n"
     ]
    },
    {
     "data": {
      "image/png": "[encoded data removed]",
      "text/plain": [
       "<Figure size 720x720 with 5 Axes>"
      ]
     },
     "metadata": {
      "needs_background": "light"
     },
     "output_type": "display_data"
    }
   ],
   "source": [
    "plot_dist(posterior_rmh)\n"
   ]
  },
  {
   "cell_type": "markdown",
   "metadata": {
    "colab_type": "text",
    "id": "pUh7G9EnJ_50"
   },
   "source": [
    "## Some samples from the posterior¶\n"
   ]
  },
  {
   "cell_type": "code",
   "execution_count": 10,
   "metadata": {
    "colab": {},
    "colab_type": "code",
    "id": "urR3a0orJ9lW"
   },
   "outputs": [
    {
     "name": "stdout",
     "output_type": "stream",
     "text": [
      "Number of balls in the box: 10, Average number of balls in the box: 100.0%\r"
     ]
    }
   ],
   "source": [
    "for _ in range(100):\n",
    "    run_trace(posterior_rmh.sample())\n"
   ]
  },
  {
   "cell_type": "markdown",
   "metadata": {
    "colab_type": "text",
    "id": "gy2e-g9IKDFj"
   },
   "source": [
    "# Another posterior"
   ]
  },
  {
   "cell_type": "code",
   "execution_count": 22,
   "metadata": {
    "colab": {},
    "colab_type": "code",
    "id": "uk4XUW9nKEF_"
   },
   "outputs": [
    {
     "name": "stdout",
     "output_type": "stream",
     "text": [
      "Time spent  | Time remain.| Progress             | Trace   | Accepted|Smp reuse| Traces/sec\n",
      "0d:00:00:04 | 0d:00:00:00 | #################### | 500/500 |  86.00% |  80.00% | 119.38       \n"
     ]
    }
   ],
   "source": [
    "model = PhysicsModel(draw=False)\n",
    "posterior_rmh_5 = model.posterior(num_traces=500, observe={'balls_in_box': 5}, inference_engine=pyprob.InferenceEngine.RANDOM_WALK_METROPOLIS_HASTINGS)"
   ]
  },
  {
   "cell_type": "code",
   "execution_count": 23,
   "metadata": {
    "colab": {},
    "colab_type": "code",
    "id": "M2hlofE0KIZs"
   },
   "outputs": [
    {
     "name": "stdout",
     "output_type": "stream",
     "text": [
      "Resample, num_samples: 1000, min_index: 0, max_index: 500, ess_before_resample: 499.9999999999998\n",
      "Time spent  | Time remain.| Progress             | Samples   | Samples/sec\n",
      "0d:00:00:00 | 0d:00:00:00 | #################### | 1000/1000 | 285,204.69       \n",
      "Map, min_index: 0, max_index: 1000\n",
      "Time spent  | Time remain.| Progress             | Values    | Values/sec\n",
      "0d:00:00:00 | 0d:00:00:00 | #################### | 1000/1000 | 335,879.86       \n",
      "Map, min_index: 0, max_index: 1000\n",
      "Time spent  | Time remain.| Progress             | Values    | Values/sec\n",
      "0d:00:00:00 | 0d:00:00:00 | #################### | 1000/1000 | 126,088.60       \n",
      "Map, min_index: 0, max_index: 1000\n",
      "Time spent  | Time remain.| Progress             | Values    | Values/sec\n",
      "0d:00:00:00 | 0d:00:00:00 | #################### | 1000/1000 | 152,014.86       \n",
      "Map, min_index: 0, max_index: 1000\n",
      "Time spent  | Time remain.| Progress             | Values    | Values/sec\n",
      "0d:00:00:00 | 0d:00:00:00 | #################### | 1000/1000 | 155,488.42       \n",
      "Map, min_index: 0, max_index: 1000\n",
      "Time spent  | Time remain.| Progress             | Values    | Values/sec\n",
      "0d:00:00:00 | 0d:00:00:00 | #################### | 1000/1000 | 124,296.83       \n"
     ]
    },
    {
     "data": {
      "image/png": "[encoded data removed]",
      "text/plain": [
       "<Figure size 720x720 with 5 Axes>"
      ]
     },
     "metadata": {
      "needs_background": "light"
     },
     "output_type": "display_data"
    }
   ],
   "source": [
    "plot_dist(posterior_rmh_5)\n"
   ]
  },
  {
   "cell_type": "code",
   "execution_count": 28,
   "metadata": {
    "colab": {
     "base_uri": "https://localhost:8080/",
     "height": 164
    },
    "colab_type": "code",
    "id": "PpYkNwp1KJTK",
    "outputId": "b78ef81d-05c2-47a7-c3fc-2197512bdded"
   },
   "outputs": [],
   "source": [
    "run_trace(posterior_rmh_5.sample())\n"
   ]
  },
  {
   "cell_type": "code",
   "execution_count": null,
   "metadata": {
    "colab": {},
    "colab_type": "code",
    "id": "PztR_zyNKK9j"
   },
   "outputs": [],
   "source": []
  }
 ],
 "metadata": {
  "colab": {
   "name": "Untitled10.ipynb",
   "provenance": []
  },
  "kernelspec": {
   "display_name": "Python 3",
   "language": "python",
   "name": "python3"
  },
  "language_info": {
   "codemirror_mode": {
    "name": "ipython",
    "version": 3
   },
   "file_extension": ".py",
   "mimetype": "text/x-python",
   "name": "python",
   "nbconvert_exporter": "python",
   "pygments_lexer": "ipython3",
   "version": "3.8.5"
  }
 },
 "nbformat": 4,
 "nbformat_minor": 4
}
